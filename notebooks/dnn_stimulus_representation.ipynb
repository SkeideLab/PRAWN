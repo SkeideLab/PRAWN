{
  "nbformat": 4,
  "nbformat_minor": 0,
  "metadata": {
    "colab": {
      "provenance": [],
      "toc_visible": true,
      "authorship_tag": "ABX9TyMJ1fUECsGZF3ksEZppidlK",
      "include_colab_link": true
    },
    "kernelspec": {
      "name": "python3",
      "display_name": "Python 3"
    },
    "language_info": {
      "name": "python"
    }
  },
  "cells": [
    {
      "cell_type": "markdown",
      "metadata": {
        "id": "view-in-github",
        "colab_type": "text"
      },
      "source": [
        "<a href=\"https://colab.research.google.com/github/SkeideLab/PRAWN_ER/blob/main/notebooks/dnn_stimulus_representation.ipynb\" target=\"_parent\"><img src=\"https://colab.research.google.com/assets/colab-badge.svg\" alt=\"Open In Colab\"/></a>"
      ]
    },
    {
      "cell_type": "markdown",
      "source": [
        "# Stimulus selection based on \"brain-like\" CNNs/DNNs for matching low-level visual features\n",
        "\n",
        "This procedure finds stimuli, which are matching in their low-level-visual features based on CNNs which are supposed to be brain-like (i.e., visual-stream like).\n",
        "\n",
        "AlexNet (1,2) is chosen, as it is supposed to be brain-like (3), and might have a brain-like hierarchy (4).\n",
        "\n",
        "## Stimulus selection (1)\n",
        "\n",
        "From the rhesus monkey face database (XXX), all monkeys are chosen that look more or less frontally into the camera (slight variations allowed). Some monkeys were excluded due to very different appearence, such as having a very different skin or hair color, having a very huge mark somewhere in the face, and so on. Onley monkey individuals with >= 2 images were chosen. (located in folder imgs)\n",
        "\n",
        "Humans where chosen from the RAFD face database (XXX). Only white, male individuals were chosen. To have slight variability in the stimulus, but no strong emotional expressions, we chose 3 individuals for which the neutral and the contemptuous facial expression looked very similar, i.e., the contemtuous facial expression looked very neutral. The face of each image was cut by removing everything below the chinline, but keeping characteristics such as hairs and ears. The faces were copped in GIMP (XXX, function \"cropped to content\").\n",
        "\n",
        "\n",
        "## Stimulus RSMs (1) - Aligning within-individual similarity\n",
        "\n",
        "Face and monkey stimuli were chosen to extract the neural activations from AlexNet for each image (5 convolutional layers), and concatenated. Pearson Correlation coefficients were then calculated between each pair of stimuli (within and across stimuli of the same individuals and within and across species).\n",
        "\n",
        "Then, for each individual (human and monkey), the sub-compartment of the correlation matrix was selected, and its lower triangular matrix (sparing diagonal values) were extracted.\n",
        "\n",
        "These pairwise correlation values were then plotted for each individual.\n",
        "\n",
        "## Stimulus selection (2)\n",
        "\n",
        "Based on these pairwise correlations, we saw that human stimuli are very similar to each other within the identity, whereas monkey stimuli were typically less similar to each other within one identity. Therefore, we selected some monkeys and their best matching stimulus pair which have high similarity, to be similarly similar to each other (within identity) then the human stimuli (within identity).\n",
        "\n",
        "These remaining monkey stimuli were manually processed in GIMP (XXX). The part of the background without image information was cropped (function \"crop to content\"). Then, the monkey face was rotated so that the eyes approximately lie on a horizontal line.\n",
        "\n",
        "\n",
        "## Stimulus RSMs (2) - Aligning between-individual similarity\n",
        "\n",
        "We used these top matching stimuli then again to run another RSA, for another round of selection, to align the dissimilarity between stimuli within one species.\n",
        "\n",
        "One monkey was very dissimilar to all other monkeys. Another monkey had very high dissimilarity between the two corresponding stimuli, which was similar dissimilar than to stimuli of other monkeys. Therefore these two monkeys were excluded and the final two monkeys were found.\n",
        "\n",
        "Regarding the humans: Each pair of the three humans seemed appropriate. However, humans 1 and 2 were chosen as they are more dissimilar as when chosing humans 2 and 3 or 2 and 3.\n",
        "\n",
        "## Final similarities between stimuli\n",
        "\n",
        "similarity between individuals within species:\n",
        "\n",
        "human 1-2: 0.5034631578901552\n",
        "\n",
        "monkey 12-15: 0.47498148841762233\n",
        "\n",
        "similarity between stimuli within individuals:\n",
        "\n",
        "human 1: 0.8682954789690445\n",
        "\n",
        "human 2: 0.7678714580795263\n",
        "\n",
        "monkey 12: 0.7695401611365418\n",
        "\n",
        "monkey 15: 0.7844933965582478\n",
        "\n",
        "\n",
        "See heatmap \"...step3.png\" for reference (last of this Colab notebook)!\n",
        "\n",
        "\n",
        "The stimuli were NOT further matched for luminance or similar!\n",
        "\n",
        "\n",
        "## References\n",
        "\n",
        "\n",
        "\n",
        "1.   https://en.wikipedia.org/wiki/AlexNet\n",
        "2.   Krizhevsky, Alex; Sutskever, Ilya; Hinton, Geoffrey E. (2017-05-24). \"ImageNet classification with deep convolutional neural networks\" (PDF). Communications of the ACM. 60 (6): 84–90. doi:10.1145/3065386\n",
        "3.   Schrimpf, M., Kubilius, J., Hong, H., Majaj, N. J., Rajalingham, R., Issa, E. B., Kar, K., Bashivan, P., Prescott-Roy, J., Geiger, F., Schmidt, K., Yamins, D. L. K., & DiCarlo, J. J. (2018). Brain-Score: Which Artificial Neural Network for Object Recognition is most Brain-Like? [Preprint]. Neuroscience. https://doi.org/10.1101/407007\n",
        "4.   Nonaka, S., Majima, K., Aoki, S. C., & Kamitani, Y. (2021). Brain hierarchy score: Which deep neural networks are hierarchically brain-like? IScience, 24(9), 103013. https://doi.org/10.1016/j.isci.2021.103013\n",
        "\n",
        "\n",
        "\n",
        "\n",
        "\n"
      ],
      "metadata": {
        "id": "lCfSLW-ymlQd"
      }
    },
    {
      "cell_type": "code",
      "execution_count": null,
      "metadata": {
        "id": "nCJCildhGXFv",
        "colab": {
          "base_uri": "https://localhost:8080/"
        },
        "outputId": "771f29e3-dec0-46f5-ab85-e9dcd9562a17"
      },
      "outputs": [
        {
          "output_type": "stream",
          "name": "stdout",
          "text": [
            "Mounted at /content/drive/\n"
          ]
        }
      ],
      "source": [
        "from google.colab import drive\n",
        "drive.mount('/content/drive/', force_remount=True)\n",
        "import os\n",
        "import numpy as np\n",
        "import pandas as pd\n",
        "from tqdm import tqdm\n",
        "from glob import glob\n",
        "import matplotlib.pyplot as plt\n",
        "import seaborn as sns\n",
        "from PIL import Image\n",
        "import torch\n",
        "from torchvision import transforms\n",
        "from pathlib import Path\n",
        "\n",
        "\n",
        "# import offshore leak data sets\n",
        "base_path = \"./drive/MyDrive/PRAWN/\"\n",
        "img_path = f\"{base_path}imgs/\""
      ]
    },
    {
      "cell_type": "code",
      "source": [],
      "metadata": {
        "id": "skvjz8nnNKvq"
      },
      "execution_count": null,
      "outputs": []
    },
    {
      "cell_type": "markdown",
      "source": [
        "## Get PyTorch AlexNet model\n",
        "\n",
        "(https://colab.research.google.com/github/pytorch/pytorch.github.io/blob/master/assets/hub/pytorch_vision_alexnet.ipynb#scrollTo=political-mount)\n"
      ],
      "metadata": {
        "id": "UYooh6jxo6yi"
      }
    },
    {
      "cell_type": "code",
      "source": [
        "model = torch.hub.load('pytorch/vision:v0.10.0', 'alexnet', pretrained=True) # \n",
        "model.eval()"
      ],
      "metadata": {
        "colab": {
          "base_uri": "https://localhost:8080/"
        },
        "id": "Cq7TYWlQNLBt",
        "outputId": "813b06d6-66f1-4779-8751-9e44c3519288"
      },
      "execution_count": null,
      "outputs": [
        {
          "output_type": "stream",
          "name": "stderr",
          "text": [
            "Using cache found in /root/.cache/torch/hub/pytorch_vision_v0.10.0\n",
            "/usr/local/lib/python3.9/dist-packages/torchvision/models/_utils.py:208: UserWarning: The parameter 'pretrained' is deprecated since 0.13 and may be removed in the future, please use 'weights' instead.\n",
            "  warnings.warn(\n",
            "/usr/local/lib/python3.9/dist-packages/torchvision/models/_utils.py:223: UserWarning: Arguments other than a weight enum or `None` for 'weights' are deprecated since 0.13 and may be removed in the future. The current behavior is equivalent to passing `weights=AlexNet_Weights.IMAGENET1K_V1`. You can also use `weights=AlexNet_Weights.DEFAULT` to get the most up-to-date weights.\n",
            "  warnings.warn(msg)\n"
          ]
        },
        {
          "output_type": "execute_result",
          "data": {
            "text/plain": [
              "AlexNet(\n",
              "  (features): Sequential(\n",
              "    (0): Conv2d(3, 64, kernel_size=(11, 11), stride=(4, 4), padding=(2, 2))\n",
              "    (1): ReLU(inplace=True)\n",
              "    (2): MaxPool2d(kernel_size=3, stride=2, padding=0, dilation=1, ceil_mode=False)\n",
              "    (3): Conv2d(64, 192, kernel_size=(5, 5), stride=(1, 1), padding=(2, 2))\n",
              "    (4): ReLU(inplace=True)\n",
              "    (5): MaxPool2d(kernel_size=3, stride=2, padding=0, dilation=1, ceil_mode=False)\n",
              "    (6): Conv2d(192, 384, kernel_size=(3, 3), stride=(1, 1), padding=(1, 1))\n",
              "    (7): ReLU(inplace=True)\n",
              "    (8): Conv2d(384, 256, kernel_size=(3, 3), stride=(1, 1), padding=(1, 1))\n",
              "    (9): ReLU(inplace=True)\n",
              "    (10): Conv2d(256, 256, kernel_size=(3, 3), stride=(1, 1), padding=(1, 1))\n",
              "    (11): ReLU(inplace=True)\n",
              "    (12): MaxPool2d(kernel_size=3, stride=2, padding=0, dilation=1, ceil_mode=False)\n",
              "  )\n",
              "  (avgpool): AdaptiveAvgPool2d(output_size=(6, 6))\n",
              "  (classifier): Sequential(\n",
              "    (0): Dropout(p=0.5, inplace=False)\n",
              "    (1): Linear(in_features=9216, out_features=4096, bias=True)\n",
              "    (2): ReLU(inplace=True)\n",
              "    (3): Dropout(p=0.5, inplace=False)\n",
              "    (4): Linear(in_features=4096, out_features=4096, bias=True)\n",
              "    (5): ReLU(inplace=True)\n",
              "    (6): Linear(in_features=4096, out_features=1000, bias=True)\n",
              "  )\n",
              ")"
            ]
          },
          "metadata": {},
          "execution_count": 79
        }
      ]
    },
    {
      "cell_type": "markdown",
      "source": [
        "## extract intermediate layer activations \n",
        "https://kozodoi.me/python/deep%20learning/pytorch/tutorial/2021/05/27/extracting-features.html"
      ],
      "metadata": {
        "id": "Ni9feE7tpEPk"
      }
    },
    {
      "cell_type": "code",
      "source": [
        "# HELPER FUNCTION FOR FEATURE EXTRACTION\n",
        "def get_features(name):\n",
        "    def hook(model, input, output):\n",
        "        features[name] = output.detach().flatten().numpy()\n",
        "    return hook\n",
        "\n",
        "# REGISTER HOOK\n",
        "model.features[0].register_forward_hook(get_features('layer0'))\n",
        "model.features[3].register_forward_hook(get_features('layer3'))\n",
        "model.features[6].register_forward_hook(get_features('layer6'))\n",
        "model.features[8].register_forward_hook(get_features('layer8'))\n",
        "model.features[10].register_forward_hook(get_features('layer10'))\n",
        "\n",
        "# function to preprocess image\n",
        "preprocess = transforms.Compose([\n",
        "        transforms.Resize(256),\n",
        "        transforms.CenterCrop(224),\n",
        "        transforms.ToTensor(),\n",
        "        transforms.Normalize(mean=[0.485, 0.456, 0.406], std=[0.229, 0.224, 0.225]),\n",
        "    ])"
      ],
      "metadata": {
        "id": "y1_oCK0re8Vy"
      },
      "execution_count": null,
      "outputs": []
    },
    {
      "cell_type": "code",
      "source": [
        "# get all image names\n",
        "img_path = f\"{base_path}imgs/\"\n",
        "files = sorted(glob(img_path + \"*.png\"))\n",
        "files"
      ],
      "metadata": {
        "colab": {
          "base_uri": "https://localhost:8080/"
        },
        "id": "0fTgk5uJpiQh",
        "outputId": "ba48b2f4-d5e8-4ff2-c6e2-4d7ad1d84977"
      },
      "execution_count": null,
      "outputs": [
        {
          "output_type": "execute_result",
          "data": {
            "text/plain": [
              "['./drive/MyDrive/PRAWN/imgs/a1_1.png',\n",
              " './drive/MyDrive/PRAWN/imgs/a1_2.png',\n",
              " './drive/MyDrive/PRAWN/imgs/a2_1.png',\n",
              " './drive/MyDrive/PRAWN/imgs/a2_2.png',\n",
              " './drive/MyDrive/PRAWN/imgs/a3_1.png',\n",
              " './drive/MyDrive/PRAWN/imgs/a3_2.png',\n",
              " './drive/MyDrive/PRAWN/imgs/r01_02.png',\n",
              " './drive/MyDrive/PRAWN/imgs/r01_04.png',\n",
              " './drive/MyDrive/PRAWN/imgs/r01_07.png',\n",
              " './drive/MyDrive/PRAWN/imgs/r01_12.png',\n",
              " './drive/MyDrive/PRAWN/imgs/r01_14.png',\n",
              " './drive/MyDrive/PRAWN/imgs/r01_16.png',\n",
              " './drive/MyDrive/PRAWN/imgs/r03_05.png',\n",
              " './drive/MyDrive/PRAWN/imgs/r12_05.png',\n",
              " './drive/MyDrive/PRAWN/imgs/r12_18.png',\n",
              " './drive/MyDrive/PRAWN/imgs/r12_19.png',\n",
              " './drive/MyDrive/PRAWN/imgs/r12_20.png',\n",
              " './drive/MyDrive/PRAWN/imgs/r12_21.png',\n",
              " './drive/MyDrive/PRAWN/imgs/r12_22.png',\n",
              " './drive/MyDrive/PRAWN/imgs/r12_23.png',\n",
              " './drive/MyDrive/PRAWN/imgs/r14_32.png',\n",
              " './drive/MyDrive/PRAWN/imgs/r14_33.png',\n",
              " './drive/MyDrive/PRAWN/imgs/r14_34.png',\n",
              " './drive/MyDrive/PRAWN/imgs/r14_38.png',\n",
              " './drive/MyDrive/PRAWN/imgs/r15_01.png',\n",
              " './drive/MyDrive/PRAWN/imgs/r15_03.png',\n",
              " './drive/MyDrive/PRAWN/imgs/r15_04.png',\n",
              " './drive/MyDrive/PRAWN/imgs/r15_05.png',\n",
              " './drive/MyDrive/PRAWN/imgs/r19_08.png']"
            ]
          },
          "metadata": {},
          "execution_count": 81
        }
      ]
    },
    {
      "cell_type": "code",
      "source": [
        "features_all = {}\n",
        "\n",
        "for file in files:\n",
        "    filename = Path(file).stem\n",
        "    features = {}\n",
        "\n",
        "    # load image and convert to RGB (remove alpha)\n",
        "    input_image = Image.open(file).convert('RGB')\n",
        "\n",
        "    # preprocess image\n",
        "    input_tensor = preprocess(input_image)\n",
        "\n",
        "    # create a mini-batch as expected by the model\n",
        "    input_batch = input_tensor.unsqueeze(0)\n",
        "\n",
        "    # move the input and model to GPU for speed if available\n",
        "    output = model(input_batch)\n",
        "    \n",
        "    features_all[filename] = features\n",
        "    # Tensor of shape 1000, with confidence scores over Imagenet's 1000 classes\n",
        "    #print(output[0])\n",
        "    # The output has unnormalized scores. To get probabilities, you can run a softmax on it.\n",
        "    #probabilities = torch.nn.functional.softmax(output[0], dim=0)\n",
        "    #print(probabilities)"
      ],
      "metadata": {
        "id": "4vNyCVNJNLQh"
      },
      "execution_count": null,
      "outputs": []
    },
    {
      "cell_type": "code",
      "source": [
        "for i in features_all[filename].keys():\n",
        "    print(f\"{i} has {features_all[filename][i].shape[0]} activations.\")"
      ],
      "metadata": {
        "colab": {
          "base_uri": "https://localhost:8080/"
        },
        "id": "ilTer2jbhpHa",
        "outputId": "b21700b5-8aed-4ea9-c68e-ef79881cdff0"
      },
      "execution_count": null,
      "outputs": [
        {
          "output_type": "stream",
          "name": "stdout",
          "text": [
            "layer0 has 193600 activations.\n",
            "layer3 has 139968 activations.\n",
            "layer6 has 64896 activations.\n",
            "layer8 has 43264 activations.\n",
            "layer10 has 43264 activations.\n"
          ]
        }
      ]
    },
    {
      "cell_type": "code",
      "source": [
        "# concatenate all layers, as these convolutional layers are supposed to mainly represent V1+V2+V3\n",
        "features_concat = np.zeros((features_all[filename]['layer0'].shape[0] + \n",
        "                            features_all[filename]['layer3'].shape[0] + \n",
        "                            features_all[filename]['layer6'].shape[0] + \n",
        "                            features_all[filename]['layer8'].shape[0] + \n",
        "                            features_all[filename]['layer10'].shape[0],\n",
        "                            len(files) ))\n",
        "\n",
        "counter = 0\n",
        "for im in features_all.keys():\n",
        "    all_activations = []\n",
        "    for layer in features_all[im].keys():\n",
        "        all_activations.append(features_all[im][layer])\n",
        "    all_activations = [i for j in all_activations for i in j]\n",
        "    #[val for sublist in matrix for val in sublist]\n",
        "    features_concat[:,counter] = all_activations \n",
        "    counter += 1\n",
        "\n"
      ],
      "metadata": {
        "id": "wWgnOX2Yi1K0"
      },
      "execution_count": null,
      "outputs": []
    },
    {
      "cell_type": "code",
      "source": [
        "features_concat.shape"
      ],
      "metadata": {
        "colab": {
          "base_uri": "https://localhost:8080/"
        },
        "id": "nkbyfZdTi1j-",
        "outputId": "bae31c57-322e-43aa-bd7e-2f6a5b605b6b"
      },
      "execution_count": null,
      "outputs": [
        {
          "output_type": "execute_result",
          "data": {
            "text/plain": [
              "(484992, 29)"
            ]
          },
          "metadata": {},
          "execution_count": 85
        }
      ]
    },
    {
      "cell_type": "code",
      "source": [
        "# save embeddings to file\n",
        "np.save(f\"{base_path}embeddings_layers_selection_narrow_step1\", features_concat)"
      ],
      "metadata": {
        "id": "mA8HcLebi12N"
      },
      "execution_count": null,
      "outputs": []
    },
    {
      "cell_type": "code",
      "source": [],
      "metadata": {
        "id": "8zZDuoDahxEB"
      },
      "execution_count": null,
      "outputs": []
    },
    {
      "cell_type": "markdown",
      "source": [
        "## visualize stimulus RSM"
      ],
      "metadata": {
        "id": "DzhZyTCisXuz"
      }
    },
    {
      "cell_type": "code",
      "source": [
        "emb_corr = np.corrcoef(features_concat, rowvar=False)\n",
        "\n",
        "#labels = [\"h1_i1\",\"h1_i2\",\n",
        "#          \"h2_i1\",\"h2_i2\",\n",
        "#          \"m1_i1\",\"m1_i2\",\n",
        "#          \"m2_i1\",\"m2_i2\"]\n",
        "labels = [str(i) for i in features_all.keys()]\n",
        "\n",
        "sns.heatmap(emb_corr, vmin=0, vmax=1,\n",
        "            xticklabels=labels,\n",
        "            yticklabels=labels)\n",
        "plt.title(\"Pearson R of AlexNet embeddings (layers 0, 3, 6, 8, 10)\")\n",
        "plt.savefig(base_path + \"RDM_selection_narrow.png\", dpi=300)\n",
        "plt.show()"
      ],
      "metadata": {
        "colab": {
          "base_uri": "https://localhost:8080/",
          "height": 486
        },
        "id": "59MYvawusdIQ",
        "outputId": "7acf492f-5269-4401-f2f8-f8900025ba39"
      },
      "execution_count": null,
      "outputs": [
        {
          "output_type": "display_data",
          "data": {
            "text/plain": [
              "<Figure size 640x480 with 2 Axes>"
            ],
            "image/png": "[encoded data removed]"
          },
          "metadata": {}
        }
      ]
    },
    {
      "cell_type": "markdown",
      "source": [
        "now search in this matrix:\n",
        "1. from each identity (rXX or gXX), find lower triagonal values\n",
        "2. extract them into pd df\n",
        "3. make scatterplot per individuum and label each datapoint to find suiting data points"
      ],
      "metadata": {
        "id": "LNqoNCpOJxNy"
      }
    },
    {
      "cell_type": "code",
      "source": [
        "names = list(features_all.keys())"
      ],
      "metadata": {
        "id": "LOkm0KXosdUV"
      },
      "execution_count": null,
      "outputs": []
    },
    {
      "cell_type": "code",
      "source": [
        "identities = set([i.split(\"_\")[0] for i in names])\n",
        "identities"
      ],
      "metadata": {
        "colab": {
          "base_uri": "https://localhost:8080/"
        },
        "id": "x2k44ocFsdc0",
        "outputId": "3071c42f-4509-4ad4-b6af-893ce32e18a4"
      },
      "execution_count": null,
      "outputs": [
        {
          "output_type": "execute_result",
          "data": {
            "text/plain": [
              "{'a1', 'a2', 'a3', 'r01', 'r03', 'r12', 'r14', 'r15', 'r19'}"
            ]
          },
          "metadata": {},
          "execution_count": 89
        }
      ]
    },
    {
      "cell_type": "code",
      "source": [
        "# attention: the same identities need to be next to each other, but this is achieved through similar file name\n",
        "df = pd.DataFrame({\"identity\": [],\n",
        "                   \"name\": [],\n",
        "                   \"similarity\": []})\n",
        "\n",
        "for id in identities:\n",
        "    # get index in array for identities\n",
        "    indices = [i for i,j in enumerate(names) if id in j]\n",
        "    labels_indices = [j for i,j in enumerate(names) if id in j]\n",
        "    print(f\"identity: {id}, indices {indices}\")\n",
        "    n_imgs = len(indices)\n",
        "\n",
        "    # get the square of the identity\n",
        "    square = emb_corr[indices[0]:indices[-1]+1, indices[0]:indices[-1]+1]\n",
        "    lowtri_indices = np.tril_indices(n_imgs, -1) # spare diagonal\n",
        "\n",
        "    values_lowtri = square[lowtri_indices]\n",
        "\n",
        "    labels_lowtri = []\n",
        "    \n",
        "    for i, li in enumerate(labels_indices):\n",
        "        for j, lj in enumerate(labels_indices):\n",
        "            if i > j:\n",
        "              labels_lowtri.append(f\"{li}_{lj}\")\n",
        "\n",
        "\n",
        "    df_tmp = pd.DataFrame({\"identity\": np.repeat(id, len(labels_lowtri)),\n",
        "                           \"name\": labels_lowtri,\n",
        "                           \"similarity\": values_lowtri})\n",
        "    df = df.append(df_tmp) \n"
      ],
      "metadata": {
        "colab": {
          "base_uri": "https://localhost:8080/"
        },
        "id": "q1AXAAYjsdkK",
        "outputId": "a434e2bf-08fa-482d-acf0-c6772c3c41c9"
      },
      "execution_count": null,
      "outputs": [
        {
          "output_type": "stream",
          "name": "stdout",
          "text": [
            "identity: a3, indices [4, 5]\n",
            "identity: r12, indices [13, 14, 15, 16, 17, 18, 19]\n",
            "identity: a1, indices [0, 1]\n",
            "identity: r14, indices [20, 21, 22, 23]\n",
            "identity: r19, indices [28]\n",
            "identity: a2, indices [2, 3]\n",
            "identity: r01, indices [6, 7, 8, 9, 10, 11]\n",
            "identity: r15, indices [24, 25, 26, 27]\n",
            "identity: r03, indices [12]\n"
          ]
        },
        {
          "output_type": "stream",
          "name": "stderr",
          "text": [
            "<ipython-input-90-723516cde91e>:30: FutureWarning: The frame.append method is deprecated and will be removed from pandas in a future version. Use pandas.concat instead.\n",
            "  df = df.append(df_tmp)\n",
            "<ipython-input-90-723516cde91e>:30: FutureWarning: The frame.append method is deprecated and will be removed from pandas in a future version. Use pandas.concat instead.\n",
            "  df = df.append(df_tmp)\n",
            "<ipython-input-90-723516cde91e>:30: FutureWarning: The frame.append method is deprecated and will be removed from pandas in a future version. Use pandas.concat instead.\n",
            "  df = df.append(df_tmp)\n",
            "<ipython-input-90-723516cde91e>:30: FutureWarning: The frame.append method is deprecated and will be removed from pandas in a future version. Use pandas.concat instead.\n",
            "  df = df.append(df_tmp)\n",
            "<ipython-input-90-723516cde91e>:30: FutureWarning: The frame.append method is deprecated and will be removed from pandas in a future version. Use pandas.concat instead.\n",
            "  df = df.append(df_tmp)\n",
            "<ipython-input-90-723516cde91e>:30: FutureWarning: The frame.append method is deprecated and will be removed from pandas in a future version. Use pandas.concat instead.\n",
            "  df = df.append(df_tmp)\n",
            "<ipython-input-90-723516cde91e>:30: FutureWarning: The frame.append method is deprecated and will be removed from pandas in a future version. Use pandas.concat instead.\n",
            "  df = df.append(df_tmp)\n"
          ]
        }
      ]
    },
    {
      "cell_type": "code",
      "source": [
        "df = df.sort_values(\"identity\")\n",
        "df.to_csv(base_path + \"df1.csv\", index=False)\n",
        "df"
      ],
      "metadata": {
        "colab": {
          "base_uri": "https://localhost:8080/",
          "height": 1000
        },
        "id": "NqRl5cbysdqR",
        "outputId": "7109dcdf-28a7-49c5-bfed-f49167b18845"
      },
      "execution_count": null,
      "outputs": [
        {
          "output_type": "execute_result",
          "data": {
            "text/plain": [
              "   identity           name  similarity\n",
              "0        a1      a1_2_a1_1    0.868295\n",
              "0        a2      a2_2_a2_1    0.767871\n",
              "0        a3      a3_2_a3_1    0.843612\n",
              "9       r01  r01_14_r01_12    0.585676\n",
              "4       r01  r01_12_r01_04    0.339573\n",
              "3       r01  r01_12_r01_02    0.504616\n",
              "2       r01  r01_07_r01_04    0.368773\n",
              "0       r01  r01_04_r01_02    0.398131\n",
              "6       r01  r01_14_r01_02    0.468435\n",
              "13      r01  r01_16_r01_12    0.445635\n",
              "1       r01  r01_07_r01_02    0.447205\n",
              "11      r01  r01_16_r01_04    0.544091\n",
              "12      r01  r01_16_r01_07    0.426903\n",
              "14      r01  r01_16_r01_14    0.375861\n",
              "5       r01  r01_12_r01_07    0.411548\n",
              "7       r01  r01_14_r01_04    0.293600\n",
              "8       r01  r01_14_r01_07    0.384309\n",
              "10      r01  r01_16_r01_02    0.517498\n",
              "5       r12  r12_20_r12_19    0.681590\n",
              "4       r12  r12_20_r12_18    0.767617\n",
              "3       r12  r12_20_r12_05    0.409264\n",
              "2       r12  r12_19_r12_18    0.711581\n",
              "17      r12  r12_23_r12_19    0.397790\n",
              "0       r12  r12_18_r12_05    0.394865\n",
              "8       r12  r12_21_r12_19    0.433356\n",
              "7       r12  r12_21_r12_18    0.390743\n",
              "1       r12  r12_19_r12_05    0.363933\n",
              "16      r12  r12_23_r12_18    0.356775\n",
              "11      r12  r12_22_r12_18    0.332590\n",
              "10      r12  r12_22_r12_05    0.257932\n",
              "19      r12  r12_23_r12_21    0.632930\n",
              "18      r12  r12_23_r12_20    0.326807\n",
              "15      r12  r12_23_r12_05    0.270523\n",
              "9       r12  r12_21_r12_20    0.351608\n",
              "20      r12  r12_23_r12_22    0.716954\n",
              "14      r12  r12_22_r12_21    0.589466\n",
              "13      r12  r12_22_r12_20    0.306946\n",
              "12      r12  r12_22_r12_19    0.371824\n",
              "6       r12  r12_21_r12_05    0.288090\n",
              "3       r14  r14_38_r14_32    0.496453\n",
              "4       r14  r14_38_r14_33    0.700706\n",
              "2       r14  r14_34_r14_33    0.474564\n",
              "5       r14  r14_38_r14_34    0.507440\n",
              "0       r14  r14_33_r14_32    0.598906\n",
              "1       r14  r14_34_r14_32    0.388369\n",
              "2       r15  r15_04_r15_03    0.526228\n",
              "3       r15  r15_05_r15_01    0.762115\n",
              "4       r15  r15_05_r15_03    0.709654\n",
              "0       r15  r15_03_r15_01    0.886119\n",
              "1       r15  r15_04_r15_01    0.544139\n",
              "5       r15  r15_05_r15_04    0.503485"
            ],
            "text/html": [
              "\n",
              "  <div id=\"df-dab76d06-cb59-4eb0-99c5-f65bafd1b4db\">\n",
              "    <div class=\"colab-df-container\">\n",
              "      <div>\n",
              "<style scoped>\n",
              "    .dataframe tbody tr th:only-of-type {\n",
              "        vertical-align: middle;\n",
              "    }\n",
              "\n",
              "    .dataframe tbody tr th {\n",
              "        vertical-align: top;\n",
              "    }\n",
              "\n",
              "    .dataframe thead th {\n",
              "        text-align: right;\n",
              "    }\n",
              "</style>\n",
              "<table border=\"1\" class=\"dataframe\">\n",
              "  <thead>\n",
              "    <tr style=\"text-align: right;\">\n",
              "      <th></th>\n",
              "      <th>identity</th>\n",
              "      <th>name</th>\n",
              "      <th>similarity</th>\n",
              "    </tr>\n",
              "  </thead>\n",
              "  <tbody>\n",
              "    <tr>\n",
              "      <th>0</th>\n",
              "      <td>a1</td>\n",
              "      <td>a1_2_a1_1</td>\n",
              "      <td>0.868295</td>\n",
              "    </tr>\n",
              "    <tr>\n",
              "      <th>0</th>\n",
              "      <td>a2</td>\n",
              "      <td>a2_2_a2_1</td>\n",
              "      <td>0.767871</td>\n",
              "    </tr>\n",
              "    <tr>\n",
              "      <th>0</th>\n",
              "      <td>a3</td>\n",
              "      <td>a3_2_a3_1</td>\n",
              "      <td>0.843612</td>\n",
              "    </tr>\n",
              "    <tr>\n",
              "      <th>9</th>\n",
              "      <td>r01</td>\n",
              "      <td>r01_14_r01_12</td>\n",
              "      <td>0.585676</td>\n",
              "    </tr>\n",
              "    <tr>\n",
              "      <th>4</th>\n",
              "      <td>r01</td>\n",
              "      <td>r01_12_r01_04</td>\n",
              "      <td>0.339573</td>\n",
              "    </tr>\n",
              "    <tr>\n",
              "      <th>3</th>\n",
              "      <td>r01</td>\n",
              "      <td>r01_12_r01_02</td>\n",
              "      <td>0.504616</td>\n",
              "    </tr>\n",
              "    <tr>\n",
              "      <th>2</th>\n",
              "      <td>r01</td>\n",
              "      <td>r01_07_r01_04</td>\n",
              "      <td>0.368773</td>\n",
              "    </tr>\n",
              "    <tr>\n",
              "      <th>0</th>\n",
              "      <td>r01</td>\n",
              "      <td>r01_04_r01_02</td>\n",
              "      <td>0.398131</td>\n",
              "    </tr>\n",
              "    <tr>\n",
              "      <th>6</th>\n",
              "      <td>r01</td>\n",
              "      <td>r01_14_r01_02</td>\n",
              "      <td>0.468435</td>\n",
              "    </tr>\n",
              "    <tr>\n",
              "      <th>13</th>\n",
              "      <td>r01</td>\n",
              "      <td>r01_16_r01_12</td>\n",
              "      <td>0.445635</td>\n",
              "    </tr>\n",
              "    <tr>\n",
              "      <th>1</th>\n",
              "      <td>r01</td>\n",
              "      <td>r01_07_r01_02</td>\n",
              "      <td>0.447205</td>\n",
              "    </tr>\n",
              "    <tr>\n",
              "      <th>11</th>\n",
              "      <td>r01</td>\n",
              "      <td>r01_16_r01_04</td>\n",
              "      <td>0.544091</td>\n",
              "    </tr>\n",
              "    <tr>\n",
              "      <th>12</th>\n",
              "      <td>r01</td>\n",
              "      <td>r01_16_r01_07</td>\n",
              "      <td>0.426903</td>\n",
              "    </tr>\n",
              "    <tr>\n",
              "      <th>14</th>\n",
              "      <td>r01</td>\n",
              "      <td>r01_16_r01_14</td>\n",
              "      <td>0.375861</td>\n",
              "    </tr>\n",
              "    <tr>\n",
              "      <th>5</th>\n",
              "      <td>r01</td>\n",
              "      <td>r01_12_r01_07</td>\n",
              "      <td>0.411548</td>\n",
              "    </tr>\n",
              "    <tr>\n",
              "      <th>7</th>\n",
              "      <td>r01</td>\n",
              "      <td>r01_14_r01_04</td>\n",
              "      <td>0.293600</td>\n",
              "    </tr>\n",
              "    <tr>\n",
              "      <th>8</th>\n",
              "      <td>r01</td>\n",
              "      <td>r01_14_r01_07</td>\n",
              "      <td>0.384309</td>\n",
              "    </tr>\n",
              "    <tr>\n",
              "      <th>10</th>\n",
              "      <td>r01</td>\n",
              "      <td>r01_16_r01_02</td>\n",
              "      <td>0.517498</td>\n",
              "    </tr>\n",
              "    <tr>\n",
              "      <th>5</th>\n",
              "      <td>r12</td>\n",
              "      <td>r12_20_r12_19</td>\n",
              "      <td>0.681590</td>\n",
              "    </tr>\n",
              "    <tr>\n",
              "      <th>4</th>\n",
              "      <td>r12</td>\n",
              "      <td>r12_20_r12_18</td>\n",
              "      <td>0.767617</td>\n",
              "    </tr>\n",
              "    <tr>\n",
              "      <th>3</th>\n",
              "      <td>r12</td>\n",
              "      <td>r12_20_r12_05</td>\n",
              "      <td>0.409264</td>\n",
              "    </tr>\n",
              "    <tr>\n",
              "      <th>2</th>\n",
              "      <td>r12</td>\n",
              "      <td>r12_19_r12_18</td>\n",
              "      <td>0.711581</td>\n",
              "    </tr>\n",
              "    <tr>\n",
              "      <th>17</th>\n",
              "      <td>r12</td>\n",
              "      <td>r12_23_r12_19</td>\n",
              "      <td>0.397790</td>\n",
              "    </tr>\n",
              "    <tr>\n",
              "      <th>0</th>\n",
              "      <td>r12</td>\n",
              "      <td>r12_18_r12_05</td>\n",
              "      <td>0.394865</td>\n",
              "    </tr>\n",
              "    <tr>\n",
              "      <th>8</th>\n",
              "      <td>r12</td>\n",
              "      <td>r12_21_r12_19</td>\n",
              "      <td>0.433356</td>\n",
              "    </tr>\n",
              "    <tr>\n",
              "      <th>7</th>\n",
              "      <td>r12</td>\n",
              "      <td>r12_21_r12_18</td>\n",
              "      <td>0.390743</td>\n",
              "    </tr>\n",
              "    <tr>\n",
              "      <th>1</th>\n",
              "      <td>r12</td>\n",
              "      <td>r12_19_r12_05</td>\n",
              "      <td>0.363933</td>\n",
              "    </tr>\n",
              "    <tr>\n",
              "      <th>16</th>\n",
              "      <td>r12</td>\n",
              "      <td>r12_23_r12_18</td>\n",
              "      <td>0.356775</td>\n",
              "    </tr>\n",
              "    <tr>\n",
              "      <th>11</th>\n",
              "      <td>r12</td>\n",
              "      <td>r12_22_r12_18</td>\n",
              "      <td>0.332590</td>\n",
              "    </tr>\n",
              "    <tr>\n",
              "      <th>10</th>\n",
              "      <td>r12</td>\n",
              "      <td>r12_22_r12_05</td>\n",
              "      <td>0.257932</td>\n",
              "    </tr>\n",
              "    <tr>\n",
              "      <th>19</th>\n",
              "      <td>r12</td>\n",
              "      <td>r12_23_r12_21</td>\n",
              "      <td>0.632930</td>\n",
              "    </tr>\n",
              "    <tr>\n",
              "      <th>18</th>\n",
              "      <td>r12</td>\n",
              "      <td>r12_23_r12_20</td>\n",
              "      <td>0.326807</td>\n",
              "    </tr>\n",
              "    <tr>\n",
              "      <th>15</th>\n",
              "      <td>r12</td>\n",
              "      <td>r12_23_r12_05</td>\n",
              "      <td>0.270523</td>\n",
              "    </tr>\n",
              "    <tr>\n",
              "      <th>9</th>\n",
              "      <td>r12</td>\n",
              "      <td>r12_21_r12_20</td>\n",
              "      <td>0.351608</td>\n",
              "    </tr>\n",
              "    <tr>\n",
              "      <th>20</th>\n",
              "      <td>r12</td>\n",
              "      <td>r12_23_r12_22</td>\n",
              "      <td>0.716954</td>\n",
              "    </tr>\n",
              "    <tr>\n",
              "      <th>14</th>\n",
              "      <td>r12</td>\n",
              "      <td>r12_22_r12_21</td>\n",
              "      <td>0.589466</td>\n",
              "    </tr>\n",
              "    <tr>\n",
              "      <th>13</th>\n",
              "      <td>r12</td>\n",
              "      <td>r12_22_r12_20</td>\n",
              "      <td>0.306946</td>\n",
              "    </tr>\n",
              "    <tr>\n",
              "      <th>12</th>\n",
              "      <td>r12</td>\n",
              "      <td>r12_22_r12_19</td>\n",
              "      <td>0.371824</td>\n",
              "    </tr>\n",
              "    <tr>\n",
              "      <th>6</th>\n",
              "      <td>r12</td>\n",
              "      <td>r12_21_r12_05</td>\n",
              "      <td>0.288090</td>\n",
              "    </tr>\n",
              "    <tr>\n",
              "      <th>3</th>\n",
              "      <td>r14</td>\n",
              "      <td>r14_38_r14_32</td>\n",
              "      <td>0.496453</td>\n",
              "    </tr>\n",
              "    <tr>\n",
              "      <th>4</th>\n",
              "      <td>r14</td>\n",
              "      <td>r14_38_r14_33</td>\n",
              "      <td>0.700706</td>\n",
              "    </tr>\n",
              "    <tr>\n",
              "      <th>2</th>\n",
              "      <td>r14</td>\n",
              "      <td>r14_34_r14_33</td>\n",
              "      <td>0.474564</td>\n",
              "    </tr>\n",
              "    <tr>\n",
              "      <th>5</th>\n",
              "      <td>r14</td>\n",
              "      <td>r14_38_r14_34</td>\n",
              "      <td>0.507440</td>\n",
              "    </tr>\n",
              "    <tr>\n",
              "      <th>0</th>\n",
              "      <td>r14</td>\n",
              "      <td>r14_33_r14_32</td>\n",
              "      <td>0.598906</td>\n",
              "    </tr>\n",
              "    <tr>\n",
              "      <th>1</th>\n",
              "      <td>r14</td>\n",
              "      <td>r14_34_r14_32</td>\n",
              "      <td>0.388369</td>\n",
              "    </tr>\n",
              "    <tr>\n",
              "      <th>2</th>\n",
              "      <td>r15</td>\n",
              "      <td>r15_04_r15_03</td>\n",
              "      <td>0.526228</td>\n",
              "    </tr>\n",
              "    <tr>\n",
              "      <th>3</th>\n",
              "      <td>r15</td>\n",
              "      <td>r15_05_r15_01</td>\n",
              "      <td>0.762115</td>\n",
              "    </tr>\n",
              "    <tr>\n",
              "      <th>4</th>\n",
              "      <td>r15</td>\n",
              "      <td>r15_05_r15_03</td>\n",
              "      <td>0.709654</td>\n",
              "    </tr>\n",
              "    <tr>\n",
              "      <th>0</th>\n",
              "      <td>r15</td>\n",
              "      <td>r15_03_r15_01</td>\n",
              "      <td>0.886119</td>\n",
              "    </tr>\n",
              "    <tr>\n",
              "      <th>1</th>\n",
              "      <td>r15</td>\n",
              "      <td>r15_04_r15_01</td>\n",
              "      <td>0.544139</td>\n",
              "    </tr>\n",
              "    <tr>\n",
              "      <th>5</th>\n",
              "      <td>r15</td>\n",
              "      <td>r15_05_r15_04</td>\n",
              "      <td>0.503485</td>\n",
              "    </tr>\n",
              "  </tbody>\n",
              "</table>\n",
              "</div>\n",
              "      <button class=\"colab-df-convert\" onclick=\"convertToInteractive('df-dab76d06-cb59-4eb0-99c5-f65bafd1b4db')\"\n",
              "              title=\"Convert this dataframe to an interactive table.\"\n",
              "              style=\"display:none;\">\n",
              "        \n",
              "  <svg xmlns=\"http://www.w3.org/2000/svg\" height=\"24px\"viewBox=\"0 0 24 24\"\n",
              "       width=\"24px\">\n",
              "    <path d=\"M0 0h24v24H0V0z\" fill=\"none\"/>\n",
              "    <path d=\"M18.56 5.44l.94 2.06.94-2.06 2.06-.94-2.06-.94-.94-2.06-.94 2.06-2.06.94zm-11 1L8.5 8.5l.94-2.06 2.06-.94-2.06-.94L8.5 2.5l-.94 2.06-2.06.94zm10 10l.94 2.06.94-2.06 2.06-.94-2.06-.94-.94-2.06-.94 2.06-2.06.94z\"/><path d=\"M17.41 7.96l-1.37-1.37c-.4-.4-.92-.59-1.43-.59-.52 0-1.04.2-1.43.59L10.3 9.45l-7.72 7.72c-.78.78-.78 2.05 0 2.83L4 21.41c.39.39.9.59 1.41.59.51 0 1.02-.2 1.41-.59l7.78-7.78 2.81-2.81c.8-.78.8-2.07 0-2.86zM5.41 20L4 18.59l7.72-7.72 1.47 1.35L5.41 20z\"/>\n",
              "  </svg>\n",
              "      </button>\n",
              "      \n",
              "  <style>\n",
              "    .colab-df-container {\n",
              "      display:flex;\n",
              "      flex-wrap:wrap;\n",
              "      gap: 12px;\n",
              "    }\n",
              "\n",
              "    .colab-df-convert {\n",
              "      background-color: #E8F0FE;\n",
              "      border: none;\n",
              "      border-radius: 50%;\n",
              "      cursor: pointer;\n",
              "      display: none;\n",
              "      fill: #1967D2;\n",
              "      height: 32px;\n",
              "      padding: 0 0 0 0;\n",
              "      width: 32px;\n",
              "    }\n",
              "\n",
              "    .colab-df-convert:hover {\n",
              "      background-color: #E2EBFA;\n",
              "      box-shadow: 0px 1px 2px rgba(60, 64, 67, 0.3), 0px 1px 3px 1px rgba(60, 64, 67, 0.15);\n",
              "      fill: #174EA6;\n",
              "    }\n",
              "\n",
              "    [theme=dark] .colab-df-convert {\n",
              "      background-color: #3B4455;\n",
              "      fill: #D2E3FC;\n",
              "    }\n",
              "\n",
              "    [theme=dark] .colab-df-convert:hover {\n",
              "      background-color: #434B5C;\n",
              "      box-shadow: 0px 1px 3px 1px rgba(0, 0, 0, 0.15);\n",
              "      filter: drop-shadow(0px 1px 2px rgba(0, 0, 0, 0.3));\n",
              "      fill: #FFFFFF;\n",
              "    }\n",
              "  </style>\n",
              "\n",
              "      <script>\n",
              "        const buttonEl =\n",
              "          document.querySelector('#df-dab76d06-cb59-4eb0-99c5-f65bafd1b4db button.colab-df-convert');\n",
              "        buttonEl.style.display =\n",
              "          google.colab.kernel.accessAllowed ? 'block' : 'none';\n",
              "\n",
              "        async function convertToInteractive(key) {\n",
              "          const element = document.querySelector('#df-dab76d06-cb59-4eb0-99c5-f65bafd1b4db');\n",
              "          const dataTable =\n",
              "            await google.colab.kernel.invokeFunction('convertToInteractive',\n",
              "                                                     [key], {});\n",
              "          if (!dataTable) return;\n",
              "\n",
              "          const docLinkHtml = 'Like what you see? Visit the ' +\n",
              "            '<a target=\"_blank\" href=https://colab.research.google.com/notebooks/data_table.ipynb>data table notebook</a>'\n",
              "            + ' to learn more about interactive tables.';\n",
              "          element.innerHTML = '';\n",
              "          dataTable['output_type'] = 'display_data';\n",
              "          await google.colab.output.renderOutput(dataTable, element);\n",
              "          const docLink = document.createElement('div');\n",
              "          docLink.innerHTML = docLinkHtml;\n",
              "          element.appendChild(docLink);\n",
              "        }\n",
              "      </script>\n",
              "    </div>\n",
              "  </div>\n",
              "  "
            ]
          },
          "metadata": {},
          "execution_count": 94
        }
      ]
    },
    {
      "cell_type": "code",
      "source": [
        "sns.regplot(data=df, x=\"identity\", y=\"similarity\", fit_reg=False, marker=\"+\", color=\"skyblue\")\n",
        "plt.title(\"similarity of stimuli within each individuum\")\n",
        "plt.savefig(base_path + \"similarities_per_individual.png\", dpi=300)\n",
        "plt.show()"
      ],
      "metadata": {
        "colab": {
          "base_uri": "https://localhost:8080/",
          "height": 472
        },
        "id": "BZODCQxrXf_E",
        "outputId": "3fbcd917-29a8-4656-ccce-0f34293821e8"
      },
      "execution_count": null,
      "outputs": [
        {
          "output_type": "display_data",
          "data": {
            "text/plain": [
              "<Figure size 640x480 with 1 Axes>"
            ],
            "image/png": "[encoded data removed]"
          },
          "metadata": {}
        }
      ]
    },
    {
      "cell_type": "code",
      "source": [
        "# get maximum similarity value of each identity\n",
        "df_summary = df.groupby(\"identity\").agg('max')\n",
        "df_summary.to_csv(base_path + \"df1_top.csv\", index=False)\n",
        "df_summary"
      ],
      "metadata": {
        "colab": {
          "base_uri": "https://localhost:8080/",
          "height": 297
        },
        "id": "fLwU06vMXgL-",
        "outputId": "b442990d-d1fe-411f-c6d9-bf49ee821fec"
      },
      "execution_count": null,
      "outputs": [
        {
          "output_type": "execute_result",
          "data": {
            "text/plain": [
              "                   name  similarity\n",
              "identity                           \n",
              "a1            a1_2_a1_1    0.868295\n",
              "a2            a2_2_a2_1    0.767871\n",
              "a3            a3_2_a3_1    0.843612\n",
              "r01       r01_16_r01_14    0.585676\n",
              "r12       r12_23_r12_22    0.767617\n",
              "r14       r14_38_r14_34    0.700706\n",
              "r15       r15_05_r15_04    0.886119"
            ],
            "text/html": [
              "\n",
              "  <div id=\"df-0de24f4d-0249-4d9f-b8f2-c0517e8cd7be\">\n",
              "    <div class=\"colab-df-container\">\n",
              "      <div>\n",
              "<style scoped>\n",
              "    .dataframe tbody tr th:only-of-type {\n",
              "        vertical-align: middle;\n",
              "    }\n",
              "\n",
              "    .dataframe tbody tr th {\n",
              "        vertical-align: top;\n",
              "    }\n",
              "\n",
              "    .dataframe thead th {\n",
              "        text-align: right;\n",
              "    }\n",
              "</style>\n",
              "<table border=\"1\" class=\"dataframe\">\n",
              "  <thead>\n",
              "    <tr style=\"text-align: right;\">\n",
              "      <th></th>\n",
              "      <th>name</th>\n",
              "      <th>similarity</th>\n",
              "    </tr>\n",
              "    <tr>\n",
              "      <th>identity</th>\n",
              "      <th></th>\n",
              "      <th></th>\n",
              "    </tr>\n",
              "  </thead>\n",
              "  <tbody>\n",
              "    <tr>\n",
              "      <th>a1</th>\n",
              "      <td>a1_2_a1_1</td>\n",
              "      <td>0.868295</td>\n",
              "    </tr>\n",
              "    <tr>\n",
              "      <th>a2</th>\n",
              "      <td>a2_2_a2_1</td>\n",
              "      <td>0.767871</td>\n",
              "    </tr>\n",
              "    <tr>\n",
              "      <th>a3</th>\n",
              "      <td>a3_2_a3_1</td>\n",
              "      <td>0.843612</td>\n",
              "    </tr>\n",
              "    <tr>\n",
              "      <th>r01</th>\n",
              "      <td>r01_16_r01_14</td>\n",
              "      <td>0.585676</td>\n",
              "    </tr>\n",
              "    <tr>\n",
              "      <th>r12</th>\n",
              "      <td>r12_23_r12_22</td>\n",
              "      <td>0.767617</td>\n",
              "    </tr>\n",
              "    <tr>\n",
              "      <th>r14</th>\n",
              "      <td>r14_38_r14_34</td>\n",
              "      <td>0.700706</td>\n",
              "    </tr>\n",
              "    <tr>\n",
              "      <th>r15</th>\n",
              "      <td>r15_05_r15_04</td>\n",
              "      <td>0.886119</td>\n",
              "    </tr>\n",
              "  </tbody>\n",
              "</table>\n",
              "</div>\n",
              "      <button class=\"colab-df-convert\" onclick=\"convertToInteractive('df-0de24f4d-0249-4d9f-b8f2-c0517e8cd7be')\"\n",
              "              title=\"Convert this dataframe to an interactive table.\"\n",
              "              style=\"display:none;\">\n",
              "        \n",
              "  <svg xmlns=\"http://www.w3.org/2000/svg\" height=\"24px\"viewBox=\"0 0 24 24\"\n",
              "       width=\"24px\">\n",
              "    <path d=\"M0 0h24v24H0V0z\" fill=\"none\"/>\n",
              "    <path d=\"M18.56 5.44l.94 2.06.94-2.06 2.06-.94-2.06-.94-.94-2.06-.94 2.06-2.06.94zm-11 1L8.5 8.5l.94-2.06 2.06-.94-2.06-.94L8.5 2.5l-.94 2.06-2.06.94zm10 10l.94 2.06.94-2.06 2.06-.94-2.06-.94-.94-2.06-.94 2.06-2.06.94z\"/><path d=\"M17.41 7.96l-1.37-1.37c-.4-.4-.92-.59-1.43-.59-.52 0-1.04.2-1.43.59L10.3 9.45l-7.72 7.72c-.78.78-.78 2.05 0 2.83L4 21.41c.39.39.9.59 1.41.59.51 0 1.02-.2 1.41-.59l7.78-7.78 2.81-2.81c.8-.78.8-2.07 0-2.86zM5.41 20L4 18.59l7.72-7.72 1.47 1.35L5.41 20z\"/>\n",
              "  </svg>\n",
              "      </button>\n",
              "      \n",
              "  <style>\n",
              "    .colab-df-container {\n",
              "      display:flex;\n",
              "      flex-wrap:wrap;\n",
              "      gap: 12px;\n",
              "    }\n",
              "\n",
              "    .colab-df-convert {\n",
              "      background-color: #E8F0FE;\n",
              "      border: none;\n",
              "      border-radius: 50%;\n",
              "      cursor: pointer;\n",
              "      display: none;\n",
              "      fill: #1967D2;\n",
              "      height: 32px;\n",
              "      padding: 0 0 0 0;\n",
              "      width: 32px;\n",
              "    }\n",
              "\n",
              "    .colab-df-convert:hover {\n",
              "      background-color: #E2EBFA;\n",
              "      box-shadow: 0px 1px 2px rgba(60, 64, 67, 0.3), 0px 1px 3px 1px rgba(60, 64, 67, 0.15);\n",
              "      fill: #174EA6;\n",
              "    }\n",
              "\n",
              "    [theme=dark] .colab-df-convert {\n",
              "      background-color: #3B4455;\n",
              "      fill: #D2E3FC;\n",
              "    }\n",
              "\n",
              "    [theme=dark] .colab-df-convert:hover {\n",
              "      background-color: #434B5C;\n",
              "      box-shadow: 0px 1px 3px 1px rgba(0, 0, 0, 0.15);\n",
              "      filter: drop-shadow(0px 1px 2px rgba(0, 0, 0, 0.3));\n",
              "      fill: #FFFFFF;\n",
              "    }\n",
              "  </style>\n",
              "\n",
              "      <script>\n",
              "        const buttonEl =\n",
              "          document.querySelector('#df-0de24f4d-0249-4d9f-b8f2-c0517e8cd7be button.colab-df-convert');\n",
              "        buttonEl.style.display =\n",
              "          google.colab.kernel.accessAllowed ? 'block' : 'none';\n",
              "\n",
              "        async function convertToInteractive(key) {\n",
              "          const element = document.querySelector('#df-0de24f4d-0249-4d9f-b8f2-c0517e8cd7be');\n",
              "          const dataTable =\n",
              "            await google.colab.kernel.invokeFunction('convertToInteractive',\n",
              "                                                     [key], {});\n",
              "          if (!dataTable) return;\n",
              "\n",
              "          const docLinkHtml = 'Like what you see? Visit the ' +\n",
              "            '<a target=\"_blank\" href=https://colab.research.google.com/notebooks/data_table.ipynb>data table notebook</a>'\n",
              "            + ' to learn more about interactive tables.';\n",
              "          element.innerHTML = '';\n",
              "          dataTable['output_type'] = 'display_data';\n",
              "          await google.colab.output.renderOutput(dataTable, element);\n",
              "          const docLink = document.createElement('div');\n",
              "          docLink.innerHTML = docLinkHtml;\n",
              "          element.appendChild(docLink);\n",
              "        }\n",
              "      </script>\n",
              "    </div>\n",
              "  </div>\n",
              "  "
            ]
          },
          "metadata": {},
          "execution_count": 97
        }
      ]
    },
    {
      "cell_type": "code",
      "source": [],
      "metadata": {
        "colab": {
          "base_uri": "https://localhost:8080/"
        },
        "id": "xjCMOgONRuJg",
        "outputId": "3a163a68-38d9-45ec-bd93-85622eab8d95"
      },
      "execution_count": null,
      "outputs": [
        {
          "output_type": "execute_result",
          "data": {
            "text/plain": [
              "(array([1, 2, 2, 3, 3, 3]), array([0, 0, 1, 0, 1, 2]))"
            ]
          },
          "metadata": {},
          "execution_count": 52
        }
      ]
    },
    {
      "cell_type": "markdown",
      "source": [
        "# RSA 2:  I take the individuals with the highest similarity, but which visually still look similar (e.g., age, color)"
      ],
      "metadata": {
        "id": "Uu5IVscSq0hh"
      }
    },
    {
      "cell_type": "code",
      "source": [
        "# get all image names\n",
        "img_path = f\"{base_path}imgs2/\"\n",
        "files = sorted(glob(img_path + \"*.png\"))\n",
        "files"
      ],
      "metadata": {
        "colab": {
          "base_uri": "https://localhost:8080/"
        },
        "id": "svJqvDS9quP0",
        "outputId": "51012542-bcf9-49df-bc9f-98417d1a41dc"
      },
      "execution_count": null,
      "outputs": [
        {
          "output_type": "execute_result",
          "data": {
            "text/plain": [
              "['./drive/MyDrive/PRAWN/imgs2/a1_1.png',\n",
              " './drive/MyDrive/PRAWN/imgs2/a1_2.png',\n",
              " './drive/MyDrive/PRAWN/imgs2/a2_1.png',\n",
              " './drive/MyDrive/PRAWN/imgs2/a2_2.png',\n",
              " './drive/MyDrive/PRAWN/imgs2/a3_1.png',\n",
              " './drive/MyDrive/PRAWN/imgs2/a3_2.png',\n",
              " './drive/MyDrive/PRAWN/imgs2/r01_14rot.png',\n",
              " './drive/MyDrive/PRAWN/imgs2/r01_16rot.png',\n",
              " './drive/MyDrive/PRAWN/imgs2/r12_22rot.png',\n",
              " './drive/MyDrive/PRAWN/imgs2/r12_23rot.png',\n",
              " './drive/MyDrive/PRAWN/imgs2/r14_34rot.png',\n",
              " './drive/MyDrive/PRAWN/imgs2/r14_38rot.png',\n",
              " './drive/MyDrive/PRAWN/imgs2/r15_04rot.png',\n",
              " './drive/MyDrive/PRAWN/imgs2/r15_05rot.png']"
            ]
          },
          "metadata": {},
          "execution_count": 98
        }
      ]
    },
    {
      "cell_type": "code",
      "source": [
        "features_all = {}\n",
        "\n",
        "for file in files:\n",
        "    filename = Path(file).stem\n",
        "    features = {}\n",
        "\n",
        "    # load image and convert to RGB (remove alpha)\n",
        "    input_image = Image.open(file).convert('RGB')\n",
        "\n",
        "    # preprocess image\n",
        "    input_tensor = preprocess(input_image)\n",
        "\n",
        "    # create a mini-batch as expected by the model\n",
        "    input_batch = input_tensor.unsqueeze(0)\n",
        "\n",
        "    # move the input and model to GPU for speed if available\n",
        "    output = model(input_batch)\n",
        "    \n",
        "    features_all[filename] = features"
      ],
      "metadata": {
        "id": "6GGf9M0Gqubi"
      },
      "execution_count": null,
      "outputs": []
    },
    {
      "cell_type": "code",
      "source": [
        "# concatenate all layers, as these convolutional layers are supposed to mainly represent V1+V2+V3\n",
        "features_concat = np.zeros((features_all[filename]['layer0'].shape[0] + \n",
        "                            features_all[filename]['layer3'].shape[0] + \n",
        "                            features_all[filename]['layer6'].shape[0] + \n",
        "                            features_all[filename]['layer8'].shape[0] + \n",
        "                            features_all[filename]['layer10'].shape[0],\n",
        "                            len(files) ))\n",
        "\n",
        "counter = 0\n",
        "for im in features_all.keys():\n",
        "    all_activations = []\n",
        "    for layer in features_all[im].keys():\n",
        "        all_activations.append(features_all[im][layer])\n",
        "    all_activations = [i for j in all_activations for i in j]\n",
        "    #[val for sublist in matrix for val in sublist]\n",
        "    features_concat[:,counter] = all_activations \n",
        "    counter += 1\n"
      ],
      "metadata": {
        "id": "s5gNzr_Iqujs"
      },
      "execution_count": null,
      "outputs": []
    },
    {
      "cell_type": "code",
      "source": [
        "# save embeddings to file\n",
        "np.save(f\"{base_path}embeddings_layers_selection_narrow_step2\", features_concat)"
      ],
      "metadata": {
        "id": "OG-eg0m4rKvV"
      },
      "execution_count": null,
      "outputs": []
    },
    {
      "cell_type": "code",
      "source": [
        "# visualize RSM\n",
        "\n",
        "emb_corr = np.corrcoef(features_concat, rowvar=False)\n",
        "\n",
        "labels = [str(i) for i in features_all.keys()]\n",
        "\n",
        "sns.heatmap(emb_corr, vmin=0, vmax=1,\n",
        "            xticklabels=labels,\n",
        "            yticklabels=labels)\n",
        "plt.title(\"Pearson R of AlexNet embeddings (layers 0, 3, 6, 8, 10)\")\n",
        "plt.savefig(base_path + \"RDM_selection_narrow_step2.png\", dpi=300)\n",
        "plt.show()"
      ],
      "metadata": {
        "colab": {
          "base_uri": "https://localhost:8080/",
          "height": 506
        },
        "id": "rqto2X9zrK3W",
        "outputId": "56b5c3f8-3d17-4307-a5b9-398b3136fdd7"
      },
      "execution_count": null,
      "outputs": [
        {
          "output_type": "display_data",
          "data": {
            "text/plain": [
              "<Figure size 640x480 with 2 Axes>"
            ],
            "image/png": "[encoded data removed]"
          },
          "metadata": {}
        }
      ]
    },
    {
      "cell_type": "markdown",
      "source": [
        "Regarding the Monkeys:\n",
        "- r01 seems to be very dissimilar to all other monkeys (and humans), and therefore too dissimilar (more dissimilar than humans are to each other)\n",
        "- r14 seems to have low intra-individual similarity compared to inter-individual, therefore remove it.\n",
        "\n",
        "Only R12 and R15 seem similar than within humans.\n",
        "\n",
        "Regarding the Humans:\n",
        "- all humans seem kinda appropriate.\n",
        "- i would chose 1&2, as they are more dissimilar than 1&3. Then dissimilarity should be similar between humans than between monkeys. However, I will double check in the following the dissimilarities:"
      ],
      "metadata": {
        "id": "XFSyxBu2xAQ8"
      }
    },
    {
      "cell_type": "code",
      "source": [
        "# repeat it just with just the final monkeys, so that we have a better overview of the values for the humans in particular\n",
        "\n",
        "# get all image names\n",
        "img_path = f\"{base_path}imgs3/\"\n",
        "files = sorted(glob(img_path + \"*.png\"))\n",
        "files"
      ],
      "metadata": {
        "colab": {
          "base_uri": "https://localhost:8080/"
        },
        "id": "Zv7mGFfZrK-p",
        "outputId": "3b132d30-19d2-415e-fd84-ba2d8ed4bc89"
      },
      "execution_count": null,
      "outputs": [
        {
          "output_type": "execute_result",
          "data": {
            "text/plain": [
              "['./drive/MyDrive/PRAWN/imgs3/a1_1.png',\n",
              " './drive/MyDrive/PRAWN/imgs3/a1_2.png',\n",
              " './drive/MyDrive/PRAWN/imgs3/a2_1.png',\n",
              " './drive/MyDrive/PRAWN/imgs3/a2_2.png',\n",
              " './drive/MyDrive/PRAWN/imgs3/a3_1.png',\n",
              " './drive/MyDrive/PRAWN/imgs3/a3_2.png',\n",
              " './drive/MyDrive/PRAWN/imgs3/r12_22rot.png',\n",
              " './drive/MyDrive/PRAWN/imgs3/r12_23rot.png',\n",
              " './drive/MyDrive/PRAWN/imgs3/r15_04rot.png',\n",
              " './drive/MyDrive/PRAWN/imgs3/r15_05rot.png']"
            ]
          },
          "metadata": {},
          "execution_count": 104
        }
      ]
    },
    {
      "cell_type": "code",
      "source": [
        "features_all = {}\n",
        "\n",
        "for file in files:\n",
        "    filename = Path(file).stem\n",
        "    features = {}\n",
        "\n",
        "    # load image and convert to RGB (remove alpha)\n",
        "    input_image = Image.open(file).convert('RGB')\n",
        "\n",
        "    # preprocess image\n",
        "    input_tensor = preprocess(input_image)\n",
        "\n",
        "    # create a mini-batch as expected by the model\n",
        "    input_batch = input_tensor.unsqueeze(0)\n",
        "\n",
        "    # move the input and model to GPU for speed if available\n",
        "    output = model(input_batch)\n",
        "    \n",
        "    features_all[filename] = features"
      ],
      "metadata": {
        "id": "_Qqr_oTey14b"
      },
      "execution_count": null,
      "outputs": []
    },
    {
      "cell_type": "code",
      "source": [
        "# concatenate all layers, as these convolutional layers are supposed to mainly represent V1+V2+V3\n",
        "features_concat = np.zeros((features_all[filename]['layer0'].shape[0] + \n",
        "                            features_all[filename]['layer3'].shape[0] + \n",
        "                            features_all[filename]['layer6'].shape[0] + \n",
        "                            features_all[filename]['layer8'].shape[0] + \n",
        "                            features_all[filename]['layer10'].shape[0],\n",
        "                            len(files) ))\n",
        "\n",
        "counter = 0\n",
        "for im in features_all.keys():\n",
        "    all_activations = []\n",
        "    for layer in features_all[im].keys():\n",
        "        all_activations.append(features_all[im][layer])\n",
        "    all_activations = [i for j in all_activations for i in j]\n",
        "    #[val for sublist in matrix for val in sublist]\n",
        "    features_concat[:,counter] = all_activations \n",
        "    counter += 1"
      ],
      "metadata": {
        "id": "4ZO8jGnry2Az"
      },
      "execution_count": null,
      "outputs": []
    },
    {
      "cell_type": "code",
      "source": [
        "# save embeddings to file\n",
        "np.save(f\"{base_path}embeddings_layers_selection_narrow_step3\", features_concat)"
      ],
      "metadata": {
        "id": "qm6R7ed2zUA3"
      },
      "execution_count": null,
      "outputs": []
    },
    {
      "cell_type": "code",
      "source": [
        "# visualize RSM\n",
        "\n",
        "emb_corr = np.corrcoef(features_concat, rowvar=False)\n",
        "\n",
        "labels = [str(i) for i in features_all.keys()]\n",
        "\n",
        "sns.heatmap(emb_corr, vmin=0, vmax=1,\n",
        "            xticklabels=labels,\n",
        "            yticklabels=labels)\n",
        "plt.title(\"Pearson R of AlexNet embeddings (layers 0, 3, 6, 8, 10)\")\n",
        "plt.savefig(base_path + \"RDM_selection_narrow_step3.png\", dpi=300)\n",
        "plt.show()"
      ],
      "metadata": {
        "colab": {
          "base_uri": "https://localhost:8080/",
          "height": 506
        },
        "id": "PiHxGT8QzUJj",
        "outputId": "d0821a80-f509-4f1f-8006-5e38fe87c88f"
      },
      "execution_count": null,
      "outputs": [
        {
          "output_type": "display_data",
          "data": {
            "text/plain": [
              "<Figure size 640x480 with 2 Axes>"
            ],
            "image/png": "[encoded data removed]"
          },
          "metadata": {}
        }
      ]
    },
    {
      "cell_type": "code",
      "source": [
        "emb_corr"
      ],
      "metadata": {
        "colab": {
          "base_uri": "https://localhost:8080/"
        },
        "id": "-rTTIjfyzUR8",
        "outputId": "cb7e4a09-822c-4f98-840b-8816cb335627"
      },
      "execution_count": null,
      "outputs": [
        {
          "output_type": "execute_result",
          "data": {
            "text/plain": [
              "array([[1.        , 0.86829548, 0.50346316, 0.39757542, 0.62080678,\n",
              "        0.60929689, 0.21444991, 0.23156567, 0.25294288, 0.26407974],\n",
              "       [0.86829548, 1.        , 0.51393278, 0.41029421, 0.60882028,\n",
              "        0.63624921, 0.22450728, 0.24154264, 0.26187049, 0.26995346],\n",
              "       [0.50346316, 0.51393278, 1.        , 0.76787146, 0.58554259,\n",
              "        0.56173708, 0.21801836, 0.23716109, 0.32155321, 0.32042076],\n",
              "       [0.39757542, 0.41029421, 0.76787146, 1.        , 0.44034922,\n",
              "        0.4286819 , 0.21299916, 0.22068719, 0.31227679, 0.29885494],\n",
              "       [0.62080678, 0.60882028, 0.58554259, 0.44034922, 1.        ,\n",
              "        0.84361245, 0.22384986, 0.24009026, 0.26559559, 0.27053719],\n",
              "       [0.60929689, 0.63624921, 0.56173708, 0.4286819 , 0.84361245,\n",
              "        1.        , 0.22229694, 0.23969161, 0.2663771 , 0.2726841 ],\n",
              "       [0.21444991, 0.22450728, 0.21801836, 0.21299916, 0.22384986,\n",
              "        0.22229694, 1.        , 0.76954016, 0.47498149, 0.512768  ],\n",
              "       [0.23156567, 0.24154264, 0.23716109, 0.22068719, 0.24009026,\n",
              "        0.23969161, 0.76954016, 1.        , 0.46733618, 0.54289806],\n",
              "       [0.25294288, 0.26187049, 0.32155321, 0.31227679, 0.26559559,\n",
              "        0.2663771 , 0.47498149, 0.46733618, 1.        , 0.7844934 ],\n",
              "       [0.26407974, 0.26995346, 0.32042076, 0.29885494, 0.27053719,\n",
              "        0.2726841 , 0.512768  , 0.54289806, 0.7844934 , 1.        ]])"
            ]
          },
          "metadata": {},
          "execution_count": 109
        }
      ]
    },
    {
      "cell_type": "code",
      "source": [
        "# extract relevant tiles\n",
        "\n",
        "sim_human_1_2 = np.median(emb_corr[2:3,0:1])\n",
        "sim_human_1_3 = np.median(emb_corr[4:5,0:1])\n",
        "sim_human_2_3 = np.median(emb_corr[4:5,2:3])\n",
        "sim_monkey_12_15 = np.median(emb_corr[6:7,8:9])\n",
        "\n",
        "print(f\"\"\"similarity between individuals within species:\n",
        "human 1-2: {sim_human_1_2}\n",
        "human 1-3: {sim_human_1_3}\n",
        "human 2-3: {sim_human_2_3}\n",
        "monkey 12-15: {sim_monkey_12_15}\n",
        "\"\"\")\n",
        "\n",
        "\n",
        "sim_human_1 = emb_corr[0,1]\n",
        "sim_human_2 = emb_corr[2,3]\n",
        "sim_human_3 = emb_corr[4,5]\n",
        "sim_monkey_12 = emb_corr[6,7]\n",
        "sim_monkey_15 = emb_corr[8,9]\n",
        "\n",
        "print(f\"\"\"similarity between stimuli within individuals:\n",
        "human 1: {sim_human_1}\n",
        "human 2: {sim_human_2}\n",
        "human 3: {sim_human_3}\n",
        "monkey 12: {sim_monkey_12}\n",
        "monkey 15: {sim_monkey_15}\n",
        "\"\"\")"
      ],
      "metadata": {
        "colab": {
          "base_uri": "https://localhost:8080/"
        },
        "id": "35nBG0-vzUdp",
        "outputId": "2619e5fd-456c-40f6-dc59-a9e03b1dd4a2"
      },
      "execution_count": null,
      "outputs": [
        {
          "output_type": "stream",
          "name": "stdout",
          "text": [
            "similarity between individuals within species:\n",
            "human 1-2: 0.5034631578901552\n",
            "human 1-3: 0.6208067754586918\n",
            "human 2-3: 0.5855425860275147\n",
            "monkey 12-15: 0.47498148841762233\n",
            "\n",
            "similarity between stimuli within individuals:\n",
            "human 1: 0.8682954789690445\n",
            "human 2: 0.7678714580795263\n",
            "human 3: 0.8436124496178822\n",
            "monkey 12: 0.7695401611365418\n",
            "monkey 15: 0.7844933965582478\n",
            "\n"
          ]
        }
      ]
    },
    {
      "cell_type": "markdown",
      "source": [
        "\n",
        "humans 1-2 and monkey 12-15 are relatively similarly similar !!!\n",
        "\n",
        "\n",
        "Stick with those!\n",
        "\n",
        "\n"
      ],
      "metadata": {
        "id": "zD0p2_J_91Wq"
      }
    },
    {
      "cell_type": "code",
      "source": [
        "#human 1-2 and monkey 12-15 are relatively similarly similar !!!\n",
        "\n",
        "\n",
        "#stick with those!\n",
        "\n"
      ],
      "metadata": {
        "id": "N6G6LbnfRuV-"
      },
      "execution_count": null,
      "outputs": []
    },
    {
      "cell_type": "code",
      "source": [],
      "metadata": {
        "id": "gDoTjDSr90mU"
      },
      "execution_count": null,
      "outputs": []
    },
    {
      "cell_type": "code",
      "source": [],
      "metadata": {
        "id": "fPoYf1LM900P"
      },
      "execution_count": null,
      "outputs": []
    },
    {
      "cell_type": "code",
      "source": [
        "# Download ImageNet labels\n",
        "#!wget https://raw.githubusercontent.com/pytorch/hub/master/imagenet_classes.txt"
      ],
      "metadata": {
        "id": "B8mOq6iLTkG1"
      },
      "execution_count": null,
      "outputs": []
    },
    {
      "cell_type": "code",
      "source": [
        "## Read the categories\n",
        "#with open(\"imagenet_classes.txt\", \"r\") as f:\n",
        "#    categories = [s.strip() for s in f.readlines()]\n",
        "## Show top categories per image\n",
        "#top5_prob, top5_catid = torch.topk(probabilities, 5)\n",
        "#for i in range(top5_prob.size(0)):\n",
        "#    print(categories[top5_catid[i]], top5_prob[i].item())"
      ],
      "metadata": {
        "id": "7apVQK2uTkZx"
      },
      "execution_count": null,
      "outputs": []
    },
    {
      "cell_type": "code",
      "source": [],
      "metadata": {
        "id": "p6CpOfBGTksb"
      },
      "execution_count": null,
      "outputs": []
    },
    {
      "cell_type": "code",
      "source": [],
      "metadata": {
        "id": "MT6RhUoaTlAv"
      },
      "execution_count": null,
      "outputs": []
    },
    {
      "cell_type": "code",
      "source": [],
      "metadata": {
        "id": "zcMJbiq6TlQK"
      },
      "execution_count": null,
      "outputs": []
    },
    {
      "cell_type": "code",
      "source": [],
      "metadata": {
        "id": "MSSPjvJIh12E"
      },
      "execution_count": null,
      "outputs": []
    }
  ]
}